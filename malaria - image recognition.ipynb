{
 "cells": [
  {
   "cell_type": "code",
   "execution_count": 1,
   "metadata": {},
   "outputs": [
    {
     "name": "stderr",
     "output_type": "stream",
     "text": [
      "Using TensorFlow backend.\n"
     ]
    }
   ],
   "source": [
    "# data source: https://ceb.nlm.nih.gov/repositories/malaria-datasets/\n",
    "# The dataset contains a total of 27,558 cell images with equal instances of parasitized and uninfected cells.\n",
    "%reset -f\n",
    "\n",
    "from keras.models import Sequential # to initialize CNN as a sequence of layers\n",
    "from keras.layers import Convolution2D # for convolutional operations\n",
    "from keras.layers import MaxPooling2D # for pooling operations\n",
    "from keras.layers import Flatten # to flatten stacked feature maps into input layer\n",
    "from keras.layers import Dense # to build fully-connected layers in a traditional neural network\n",
    "from keras.layers import Dropout # to build a dropout layer(s); helps prevent overfitting\n",
    "from keras.layers import BatchNormalization # to avoid internal covariate shift and speed up training\n",
    "\n",
    "import numpy as np\n",
    "np.random.seed(123)"
   ]
  },
  {
   "cell_type": "code",
   "execution_count": 2,
   "metadata": {},
   "outputs": [],
   "source": [
    "##### set some hyperparameters\n",
    "num_epochs = 10\n",
    "batchsize = 32\n",
    "rescaled_size = 64\n",
    "num_filters = 32"
   ]
  },
  {
   "cell_type": "code",
   "execution_count": 3,
   "metadata": {},
   "outputs": [],
   "source": [
    "##### part 1: building the CNN"
   ]
  },
  {
   "cell_type": "code",
   "execution_count": 4,
   "metadata": {},
   "outputs": [],
   "source": [
    "### initialize the CNN\n",
    "classifier = Sequential()"
   ]
  },
  {
   "cell_type": "code",
   "execution_count": 5,
   "metadata": {},
   "outputs": [
    {
     "name": "stdout",
     "output_type": "stream",
     "text": [
      "WARNING:tensorflow:From C:\\Users\\USER\\Anaconda3\\envs\\aloy_python_3.6\\lib\\site-packages\\tensorflow\\python\\framework\\op_def_library.py:263: colocate_with (from tensorflow.python.framework.ops) is deprecated and will be removed in a future version.\n",
      "Instructions for updating:\n",
      "Colocations handled automatically by placer.\n"
     ]
    }
   ],
   "source": [
    "### step 1: add a convolution layer to the CNN\n",
    "classifier.add(Convolution2D(filters=num_filters,\n",
    "                             kernel_size=(3,3), # each kernel has a 3x3 receptive field\n",
    "                             padding='same', # spatial dimensions of input image and feature map are the same\n",
    "                             input_shape=(rescaled_size, rescaled_size, 3), # each input image has width=height, and 3 color channels\n",
    "                             strides=(1,1), # stride 1 pixel at a time, along the width and height\n",
    "                             activation='relu')) # apply ReLU activation function to the conv layer element-wise"
   ]
  },
  {
   "cell_type": "code",
   "execution_count": 6,
   "metadata": {},
   "outputs": [],
   "source": [
    "### step 2: add a pooling layer to the CNN\n",
    "classifier.add(MaxPooling2D(pool_size=(2,2), # pooling kernel has a 2x2 receptive field\n",
    "                            strides=(2,2))) # stride 2 pixels at a time, along the width and height"
   ]
  },
  {
   "cell_type": "code",
   "execution_count": 7,
   "metadata": {},
   "outputs": [],
   "source": [
    "### step 3: add a batch normalization layer to the CNN\n",
    "#classifier.add(BatchNormalization())"
   ]
  },
  {
   "cell_type": "code",
   "execution_count": 8,
   "metadata": {},
   "outputs": [],
   "source": [
    "### step 4: repeat steps 1 to 3 for a deep CNN\n",
    "classifier.add(Convolution2D(filters=num_filters,\n",
    "                             kernel_size=(3,3), # each kernel has a 3x3 receptive field\n",
    "                             padding='same', # spatial dimensions of input image and feature map are the same\n",
    "                             strides=(1,1), # stride 1 pixel at a time, along the width and height\n",
    "                             activation='relu')) # apply ReLU activation function to the conv layer element-wise\n",
    "\n",
    "classifier.add(MaxPooling2D(pool_size=(2,2), # pooling kernel has a 2x2 receptive field\n",
    "                            strides=(2,2))) # stride 2 pixels at a time, along the width and height\n",
    "\n",
    "#classifier.add(BatchNormalization())"
   ]
  },
  {
   "cell_type": "code",
   "execution_count": 9,
   "metadata": {},
   "outputs": [],
   "source": [
    "### step 5: flatten the pooled feature maps into a vector of neurons (to be used as an input layer in a classic NN)\n",
    "classifier.add(Flatten())"
   ]
  },
  {
   "cell_type": "code",
   "execution_count": 10,
   "metadata": {},
   "outputs": [],
   "source": [
    "### step 6: fully connect the input layer to a hidden layer and output layer (classic NN)\n",
    "#classifier.add(Dropout(0.5)) # dropout layer (with 50% probability of shutting down any given neuron) prevents overfitting\n",
    "\n",
    "classifier.add(Dense(units=128, # 128 neurons in the hidden layer\n",
    "                     activation='relu'))\n",
    "\n",
    "#classifier.add(Dropout(0.5)) # dropout layer (with 50% probability of shutting down any given neuron) prevents overfitting\n",
    "\n",
    "classifier.add(Dense(units=1, # classification problem is binary\n",
    "                     activation='sigmoid')) # if classification problem was multiclass, we'd use softmax"
   ]
  },
  {
   "cell_type": "code",
   "execution_count": 11,
   "metadata": {},
   "outputs": [],
   "source": [
    "### compile the CNN\n",
    "classifier.compile(optimizer='adam', # stochastic gradient descent algorithm (to optimize the weights)\n",
    "                   loss='binary_crossentropy',\n",
    "                   metrics=['accuracy']) # alternative: crossentropy"
   ]
  },
  {
   "cell_type": "code",
   "execution_count": 12,
   "metadata": {},
   "outputs": [],
   "source": [
    "##### part 2: fitting the CNN to the training set"
   ]
  },
  {
   "cell_type": "code",
   "execution_count": 13,
   "metadata": {},
   "outputs": [
    {
     "name": "stdout",
     "output_type": "stream",
     "text": [
      "Found 17558 images belonging to 2 classes.\n",
      "Found 10000 images belonging to 2 classes.\n"
     ]
    }
   ],
   "source": [
    "### prevent overfitting by augmenting the number of images with transformed (e.g. zoomed, sheared) versions of those images\n",
    "from keras.preprocessing.image import ImageDataGenerator\n",
    "\n",
    "import os\n",
    "os.chdir('D:\\cell_images')\n",
    "\n",
    "train_datagen = ImageDataGenerator(rescale=1./255,\n",
    "                                   shear_range=0.2,\n",
    "                                   zoom_range=0.2,\n",
    "                                   horizontal_flip=True)\n",
    "\n",
    "test_datagen = ImageDataGenerator(rescale=1./255)\n",
    "\n",
    "training_set = train_datagen.flow_from_directory('training_set',\n",
    "                                                 target_size=(rescaled_size,rescaled_size), # all images will be resized to 64x64 pixels\n",
    "                                                 batch_size=batchsize, # weights are updated every time batchsize images have been fed into the CNN\n",
    "                                                 class_mode='binary') # 'categorical' if multiclass classification\n",
    "\n",
    "test_set = test_datagen.flow_from_directory('test_set',\n",
    "                                            target_size=(rescaled_size,rescaled_size),\n",
    "                                            batch_size=batchsize,\n",
    "                                            class_mode='binary')"
   ]
  },
  {
   "cell_type": "code",
   "execution_count": 14,
   "metadata": {},
   "outputs": [
    {
     "name": "stdout",
     "output_type": "stream",
     "text": [
      "WARNING:tensorflow:From C:\\Users\\USER\\Anaconda3\\envs\\aloy_python_3.6\\lib\\site-packages\\tensorflow\\python\\ops\\math_ops.py:3066: to_int32 (from tensorflow.python.ops.math_ops) is deprecated and will be removed in a future version.\n",
      "Instructions for updating:\n",
      "Use tf.cast instead.\n",
      "Epoch 1/10\n",
      "549/549 [==============================] - 34s 63ms/step - loss: 0.4681 - acc: 0.7807 - val_loss: 0.8378 - val_acc: 0.8744\n",
      "Epoch 2/10\n",
      "549/549 [==============================] - 32s 58ms/step - loss: 0.2417 - acc: 0.9274 - val_loss: 0.3885 - val_acc: 0.8349\n",
      "Epoch 3/10\n",
      "549/549 [==============================] - 32s 58ms/step - loss: 0.1695 - acc: 0.9479 - val_loss: 0.3195 - val_acc: 0.9073\n",
      "Epoch 4/10\n",
      "549/549 [==============================] - 32s 58ms/step - loss: 0.1447 - acc: 0.9553 - val_loss: 0.2172 - val_acc: 0.9205\n",
      "Epoch 5/10\n",
      "549/549 [==============================] - 32s 58ms/step - loss: 0.1358 - acc: 0.9574 - val_loss: 0.3062 - val_acc: 0.9075\n",
      "Epoch 6/10\n",
      "549/549 [==============================] - 32s 58ms/step - loss: 0.1266 - acc: 0.9604 - val_loss: 0.2782 - val_acc: 0.9126\n",
      "Epoch 7/10\n",
      "549/549 [==============================] - 32s 58ms/step - loss: 0.1191 - acc: 0.9624 - val_loss: 0.2287 - val_acc: 0.9136\n",
      "Epoch 8/10\n",
      "549/549 [==============================] - 32s 58ms/step - loss: 0.1208 - acc: 0.9612 - val_loss: 0.1773 - val_acc: 0.9422\n",
      "Epoch 9/10\n",
      "549/549 [==============================] - 32s 58ms/step - loss: 0.1133 - acc: 0.9633 - val_loss: 0.2697 - val_acc: 0.9165\n",
      "Epoch 10/10\n",
      "549/549 [==============================] - 32s 58ms/step - loss: 0.1128 - acc: 0.9632 - val_loss: 0.2339 - val_acc: 0.9200\n"
     ]
    }
   ],
   "source": [
    "### train model\n",
    "history = classifier.fit_generator(training_set,\n",
    "                                   steps_per_epoch = np.ceil(17558/batchsize),\n",
    "                                   epochs = num_epochs, # number of times you want to feed all the training images into the CNN\n",
    "                                   validation_data = test_set,\n",
    "                                   validation_steps = np.ceil(10000/batchsize))"
   ]
  },
  {
   "cell_type": "code",
   "execution_count": 21,
   "metadata": {},
   "outputs": [
    {
     "data": {
      "image/png": "[encoded data removed]",
      "text/plain": [
       "<Figure size 432x288 with 1 Axes>"
      ]
     },
     "metadata": {
      "needs_background": "light"
     },
     "output_type": "display_data"
    }
   ],
   "source": [
    "# summarize history for accuracy\n",
    "import matplotlib.pyplot as plt\n",
    "\n",
    "plt.plot(history.history['acc'])\n",
    "plt.plot(history.history['val_acc'])\n",
    "plt.title('model accuracy')\n",
    "plt.ylabel('accuracy')\n",
    "plt.xlabel('epoch')\n",
    "plt.legend(['train', 'test'], loc='upper left')\n",
    "plt.show()"
   ]
  },
  {
   "cell_type": "code",
   "execution_count": 16,
   "metadata": {},
   "outputs": [],
   "source": [
    "### save model\n",
    "#classifier.save('flowers - model.h5')\n",
    "\n",
    "### load model\n",
    "#from keras.models import load_model\n",
    "#classifier = load_model('flowers - model.h5')"
   ]
  },
  {
   "cell_type": "code",
   "execution_count": 17,
   "metadata": {},
   "outputs": [],
   "source": [
    "##### part 3: fitting DenseNet121 to the training set"
   ]
  },
  {
   "cell_type": "code",
   "execution_count": 18,
   "metadata": {},
   "outputs": [],
   "source": [
    "# ### set up DenseNet121\n",
    "# from keras.applications import DenseNet121\n",
    "\n",
    "# classifier = DenseNet121(\n",
    "#     weights=None, \n",
    "#     include_top=True, \n",
    "#     classes=1,\n",
    "#     input_shape=(rescaled_size, rescaled_size, 3)\n",
    "# )\n",
    "\n",
    "# classifier.compile(optimizer='adam', # stochastic gradient descent algorithm (to optimize the weights)\n",
    "#                    loss='binary_crossentropy',\n",
    "#                    metrics=['accuracy']) # alternative: crossentropy"
   ]
  },
  {
   "cell_type": "code",
   "execution_count": 19,
   "metadata": {},
   "outputs": [],
   "source": [
    "# ### prepare data generators\n",
    "# from keras.preprocessing.image import ImageDataGenerator\n",
    "\n",
    "# import os\n",
    "# os.chdir('D:\\cell_images')\n",
    "\n",
    "# train_datagen = ImageDataGenerator(rescale=1./255,\n",
    "#                                    shear_range=0.2,\n",
    "#                                    zoom_range=0.2,\n",
    "#                                    horizontal_flip=True)\n",
    "\n",
    "# test_datagen = ImageDataGenerator(rescale=1./255)\n",
    "\n",
    "# training_set = train_datagen.flow_from_directory('training_set',\n",
    "#                                                  target_size=(rescaled_size,rescaled_size), # all images will be resized to 64x64 pixels\n",
    "#                                                  batch_size=batchsize, # weights are updated every time batchsize images have been fed into the CNN\n",
    "#                                                  class_mode='binary') # 'categorical' if multiclass classification\n",
    "\n",
    "# test_set = test_datagen.flow_from_directory('test_set',\n",
    "#                                             target_size=(rescaled_size,rescaled_size),\n",
    "#                                             batch_size=batchsize,\n",
    "#                                             class_mode='binary')"
   ]
  },
  {
   "cell_type": "code",
   "execution_count": 20,
   "metadata": {},
   "outputs": [],
   "source": [
    "# ### train model\n",
    "# classifier.fit_generator(training_set,\n",
    "#                          steps_per_epoch = np.ceil(17558/batchsize),\n",
    "#                          epochs = num_epochs, # number of times you want to feed all the training images into the CNN\n",
    "#                          validation_data = test_set,\n",
    "#                          validation_steps = np.ceil(10000/batchsize))"
   ]
  },
  {
   "cell_type": "code",
   "execution_count": null,
   "metadata": {},
   "outputs": [],
   "source": []
  },
  {
   "cell_type": "code",
   "execution_count": null,
   "metadata": {},
   "outputs": [],
   "source": []
  }
 ],
 "metadata": {
  "kernelspec": {
   "display_name": "Python 3",
   "language": "python",
   "name": "python3"
  },
  "language_info": {
   "codemirror_mode": {
    "name": "ipython",
    "version": 3
   },
   "file_extension": ".py",
   "mimetype": "text/x-python",
   "name": "python",
   "nbconvert_exporter": "python",
   "pygments_lexer": "ipython3",
   "version": "3.6.8"
  }
 },
 "nbformat": 4,
 "nbformat_minor": 2
}
